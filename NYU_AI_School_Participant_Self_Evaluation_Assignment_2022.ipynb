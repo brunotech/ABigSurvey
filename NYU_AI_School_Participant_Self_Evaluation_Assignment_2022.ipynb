{
  "nbformat": 4,
  "nbformat_minor": 0,
  "metadata": {
    "colab": {
      "provenance": [],
      "include_colab_link": true
    },
    "kernelspec": {
      "name": "python3",
      "display_name": "Python 3"
    }
  },
  "cells": [
    {
      "cell_type": "markdown",
      "metadata": {
        "id": "view-in-github",
        "colab_type": "text"
      },
      "source": [
        "<a href=\"https://colab.research.google.com/github/brunotech/ABigSurvey/blob/master/NYU_AI_School_Participant_Self_Evaluation_Assignment_2022.ipynb\" target=\"_parent\"><img src=\"https://colab.research.google.com/assets/colab-badge.svg\" alt=\"Open In Colab\"/></a>"
      ]
    },
    {
      "cell_type": "markdown",
      "metadata": {
        "id": "YvABRYrAn31M"
      },
      "source": [
        "This (ungraded) assignment is designed to check your knowledge of basic probability and statistics as well as basic programming in Python. It will allow you to self-evaluate which track (coder/non-coder) you would like to follow so that we can best teach you during the NYU AI School. \n",
        "\n",
        "_Note: You can send us an email with a link to your solutions but note that these do not influence admission decisions to the NYU AI School! They are just for you to know what level the school will operate at._\n",
        "\n",
        "### Recommended Reading:\n",
        "1. Seeing Theory's [Visual Tutorial on Probability and Statistics](https://seeing-theory.brown.edu/basic-probability/index.html)\n",
        "2. Prof. Sebastian Raschka's [Video Mini-series on Numpy, Matplotlib](https://sebastianraschka.com/blog/2020/numpy-intro.html) \n",
        "3. Prof. Justin Johnson's [Numpy Tutorial](https://cs231n.github.io/python-numpy-tutorial/) for CS231N at Stanford\n",
        "\n",
        "### Optional Content (not required for this exercise or the school):\n",
        "1. Advanced Videos: Dr. Grant Sanderson's (3blue1brown) [Linear Algebra Video Series](https://www.youtube.com/playlist?list=PLZHQObOWTQDPD3MizzM2xVFitgF8hE_ab)\n",
        "2. Advanced Reading: Ch. 1 - 3 from Prof. Carlos Fernandez Granda's Notes on [Probability and Statistics for Data Science](https://cims.nyu.edu/~cfgranda/pages/stuff/probability_stats_for_DS.pdf)\n"
      ]
    },
    {
      "cell_type": "markdown",
      "metadata": {
        "id": "XKeNWEARoyCW"
      },
      "source": [
        "## Question 1. Matrices and Linear Algebra\n",
        "\n",
        "---\n",
        "\n",
        "\n",
        "\n",
        "Consider these two matrices:\n",
        "\n",
        "$$ A = \\pmatrix{-1 & 3 \\\\ 8 & 5 \\\\ 6 & -4} $$\n",
        "\n",
        "$$ B = \\pmatrix{4 & 6 & -3 \\\\ 2 & 7 & 11} $$\n",
        "\n",
        "#### a. What is the product AB? Can you calculate it?\n",
        "\n",
        "#### b. What is the product BA? Can you calculate it?\n",
        "\n",
        "(We encourage you to write it down and calculate it manually so you have clarity on the procedure of matrix multiplication.)"
      ]
    },
    {
      "cell_type": "code",
      "source": [
        "AB = \\pmatriz{-1 & 3 \\\\ 8 & 5 \\\\ 6 & -4} \\pmatriz{4 & 6 & -3 \\\\ 2 & 7 & 11} = \\pmatriz{(-1)(4) + (3)(2) & (-1)(6) + (3)(7) & (-1)(-3) + (3)(11) \\\\ (8)(4) + (5)( 2) & (8)(6) + (5)(7) & (8)(-3) + (5)(11) \\\\ (6)(4) + (-4)(2) & (6 )(6) + (-4)(7) & (6)(-3) + (-4)(11)}\n",
        "\n",
        "Simplificando cada entrada, obtemos:\n",
        "\n",
        "AB = \\pmatriz{-2 & 19 & 30 \\\\ 42 & 74 & 29 \\\\ 20 & 10 & -42}\n",
        "\n",
        "Portanto, o produto AB é:\n",
        "\n",
        "AB = \\pmatriz{-2 & 19 & 30 \\\\ 42 & 74 & 29 \\\\ 20 & 10 & -42}\n",
        "\n",
        "\n",
        "BA = \\pmatrix{4 & 6 & -3 \\\\ 2 & 7 & 11} \\pmatrix{-1 & 3 \\\\ 8 & 5 \\\\ 6 & -4} = \\pmatrix{(4)(-1) + (6)(8) + (-3)(6) & (4)(3) + (6)(5) + (-3)(-4) \\\\ (2)(-1) + (7) (8) + (11)(6) & (2)(3) + (7)(5) + (11)(-4)}\n",
        "Simplificando cada entrada, obtemos:\n",
        "\n",
        "BA = \\pmatriz{42 & 45 \\\\ 94 & -11}\n",
        "\n",
        "Portanto, o produto BA é:\n",
        "\n",
        "BA = \\pmatriz{42 & 45 \\\\ 94 & -11}\n",
        "\n",
        "\n",
        "\n"
      ],
      "metadata": {
        "colab": {
          "base_uri": "https://localhost:8080/",
          "height": 153
        },
        "id": "vNE-puIv0YRi",
        "outputId": "cbd514ae-3e5c-4a10-e693-e6c85ac3192b"
      },
      "execution_count": 14,
      "outputs": [
        {
          "output_type": "error",
          "ename": "SyntaxError",
          "evalue": "ignored",
          "traceback": [
            "\u001b[0;36m  File \u001b[0;32m\"<ipython-input-14-9ad8b1937067>\"\u001b[0;36m, line \u001b[0;32m1\u001b[0m\n\u001b[0;31m    AB = \\pmatriz{-1 & 3 \\\\ 8 & 5 \\\\ 6 & -4} \\pmatriz{4 & 6 & -3 \\\\ 2 & 7 & 11} = \\pmatriz{(-1)(4) + (3)(2) & (-1)(6) + (3)(7) & (-1)(-3) + (3)(11) \\\\ (8)(4) + (5)( 2) & (8)(6) + (5)(7) & (8)(-3) + (5)(11) \\\\ (6)(4) + (-4)(2) & (6 )(6) + (-4)(7) & (6)(-3) + (-4)(11)}\u001b[0m\n\u001b[0m          ^\u001b[0m\n\u001b[0;31mSyntaxError\u001b[0m\u001b[0;31m:\u001b[0m unexpected character after line continuation character\n"
          ]
        }
      ]
    },
    {
      "cell_type": "markdown",
      "metadata": {
        "id": "RzWlOY1-nDrV"
      },
      "source": [
        "# Question 2. Probability and Statistics\n",
        "\n",
        "In the roll of two (unbiased) dice, what is the probability that none of them shows a 5? \n",
        "\n",
        "**Hint:** Probability is defined as: $\\dfrac{\\text{number of all favorable events}}{\\text{number of all possible events}}$"
      ]
    },
    {
      "cell_type": "code",
      "source": [
        "ortanto, existem 36 - 11 = 25 resultados em que nenhum dos dados mostra um 5.\n",
        "\n",
        "Portanto, a probabilidade de rolar dois dados e não obter nenhum 5 é:\n",
        "\n",
        "número de todos os eventos favoráveis\n",
        "número de todos os eventos possíveis\n",
        "=\n",
        "25\n",
        "36\n",
        "número de todos os eventos possíveis\n",
        "número de todos os eventos favoráveis\n",
        "​\n",
        " = \n",
        "36\n",
        "25\n",
        "​\n",
        " \n",
        "\n",
        "Portanto, a probabilidade de nenhum dos dados mostrar um 5 é 25/36 ou aproximadamente 0,694."
      ],
      "metadata": {
        "id": "esMf6Q0M1u4V"
      },
      "execution_count": null,
      "outputs": []
    },
    {
      "cell_type": "markdown",
      "metadata": {
        "id": "WgM1V7FH5-8A"
      },
      "source": [
        "# Question 3. Programming with Python, Numpy, and Matplotlib\n",
        "This coding sample will help you learn about some of the functionality offered by [numpy](https://numpy.org/) and help you learn about making plots using [matplotlib](https://matplotlib.org/). \n",
        "\n",
        "Q3. (a) In this question, we ask you to generate two arrays of random real numbers and plot their distribution.\n",
        "\n",
        "We have provided extensive comments to allow you to easily walk through the coding section."
      ]
    },
    {
      "cell_type": "code",
      "metadata": {
        "id": "qdPeRRYl0lfD"
      },
      "source": [
        "# Import a library 'numpy' using an alias 'np'.\n",
        "# Import the 'pyplot' submodule from the 'matplotlib' module using 'plt' as an alias .\n",
        "\n",
        "# Generate a set of 500 samples, i.e. 500 random real numbers, and store it in a variable named 'x1'.\n",
        "# Hint: try using a method from the numpy.random submodule.\n",
        "\n",
        "# Create a numpy array 'x2' by adding the number 5 to each element of 'x1'.\n",
        "# Note: 'x2' has the same number of elements as 'x1'.\n",
        "\n",
        "# Combine the numpy arrays 'x1' and 'x2' to create a numpy array 'x' with 1000 samples.\n",
        "\n",
        "# Plot a histogram of the values that 'x' takes using plt.hist().\n",
        "# For more information on using matplotlib for building histograms see: https://www.youtube.com/watch?v=XDv6T4a0RNc.\n",
        "# Note: Try playing around with the 'bins' argument in the plt.hist() function to see how the plot changes.\n",
        "# Try setting 'density' to True so the histogram represents a probability density function.\n",
        "\n",
        "# Add a title to the plot using plt.title().\n",
        "# Show the plot using plt.show().\n"
      ],
      "execution_count": null,
      "outputs": []
    },
    {
      "cell_type": "code",
      "source": [
        "import numpy as np\n",
        "import matplotlib.pyplot as plt\n",
        "\n",
        "# Generate 500 samples and store them in x1\n",
        "x1 = np.random.normal(loc=0.0, scale=1.0, size=500)\n",
        "\n",
        "# Create x2 by adding 5 to each element of x1\n",
        "x2 = x1 + 5\n",
        "\n",
        "# Combine x1 and x2 to create x with 1000 samples\n",
        "x = np.concatenate((x1, x2))\n",
        "\n",
        "# Plot a histogram of x\n",
        "plt.hist(x, bins=20, density=True)\n",
        "plt.title('Histogram of Samples')\n",
        "plt.show()\n"
      ],
      "metadata": {
        "colab": {
          "base_uri": "https://localhost:8080/",
          "height": 452
        },
        "id": "hhWPfU9_20o7",
        "outputId": "7c495496-3b01-40a7-f83e-d3bf78deb56e"
      },
      "execution_count": 1,
      "outputs": [
        {
          "output_type": "display_data",
          "data": {
            "text/plain": [
              "<Figure size 640x480 with 1 Axes>"
            ],
            "image/png": "[encoded data removed]"
          },
          "metadata": {}
        }
      ]
    },
    {
      "cell_type": "markdown",
      "metadata": {
        "id": "cj2tHVdmW035"
      },
      "source": [
        "Q3. (b) In this question, you will write a function to calculate the mean and the variance of the random samples you generated in numpy array 'x' above and verify that they match the mean and variance of the same data calculated using numpy."
      ]
    },
    {
      "cell_type": "code",
      "metadata": {
        "id": "QWXWxnaWWzZk"
      },
      "source": [
        "# Define a function that takes as input an array of data and returns the mean of the data .\n",
        "def data_mean(x):\n",
        "  # your code here\n",
        "  return mean\n",
        "\n",
        "# Define a function that takes as input an array of data and returns the variance of the data.\n",
        "def data_variance(x):\n",
        "  # your code here\n",
        "  return var\n",
        "\n",
        "# Verify that the values you calculated for the mean and variance of numpy array 'x' match \n",
        "# the values of the mean and variance obtained using the 'mean' and 'var' methods from numpy.\n",
        "# Note: You might want to use numpy.testing.assert_approx_equal since your results may vary in decimal points.\n"
      ],
      "execution_count": 11,
      "outputs": []
    },
    {
      "cell_type": "code",
      "source": [
        "import numpy as np\n",
        "\n",
        "def data_mean(x):\n",
        "    return np.mean(x)\n",
        "\n",
        "def data_variance(x):\n",
        "    return np.var(x)\n"
      ],
      "metadata": {
        "id": "OiEP83vv38XS"
      },
      "execution_count": 12,
      "outputs": []
    },
    {
      "cell_type": "code",
      "source": [
        "from numpy.testing import assert_approx_equal\n",
        "\n",
        "# Generate some random data\n",
        "x = np.random.normal(0, 1, 1000)\n",
        "\n",
        "# Calculate the mean and variance using our functions\n",
        "mean = data_mean(x)\n",
        "variance = data_variance(x)\n",
        "\n",
        "# Verify that the values match the results from numpy's mean and var functions\n",
        "assert_approx_equal(mean, np.mean(x))\n",
        "assert_approx_equal(variance, np.var(x))\n"
      ],
      "metadata": {
        "id": "1UfLzlp633FA"
      },
      "execution_count": 13,
      "outputs": []
    },
    {
      "cell_type": "markdown",
      "metadata": {
        "id": "V_97pwD3f4F7"
      },
      "source": [
        "Q3. (c) In this question, you will calculate the mean and the variance of the random samples in numpy array 'x1', numpy array 'x2', and compare them to the mean and the variance of random samples in numpy array 'x'. What is the relationship between the **sample means** of the 3 numpy arrays?"
      ]
    },
    {
      "cell_type": "code",
      "metadata": {
        "id": "FLKrWqjOUMmO"
      },
      "source": [
        "# Calculate and print the mean of the numpy array 'x1' and store it in a variable 'mean_x1'.\n",
        "\n",
        "# Calculate and print the mean of the numpy array 'x2' and store it in a variable 'mean_x2'.\n",
        "\n",
        "# Calculate the difference in means of both numpy arrays above.\n",
        "\n",
        "# Q: Can you explain why the difference takes this value?\n",
        "# A: \n",
        "\n",
        "# What is the relationship between the sample means of 'x1', 'x2', and 'x'?\n",
        "# A: \n",
        "\n",
        "# Print the variance of numpy arrays 'x1', 'x2', and 'x' separately.\n"
      ],
      "execution_count": null,
      "outputs": []
    },
    {
      "cell_type": "code",
      "source": [
        "mean_x1 = np.mean(x1)\n",
        "print(mean_x1)\n"
      ],
      "metadata": {
        "colab": {
          "base_uri": "https://localhost:8080/"
        },
        "id": "rHhPa4r04WPQ",
        "outputId": "4e9176da-f527-4bcf-d05b-22d5ff84be6d"
      },
      "execution_count": 6,
      "outputs": [
        {
          "output_type": "stream",
          "name": "stdout",
          "text": [
            "0.01782700217697554\n"
          ]
        }
      ]
    },
    {
      "cell_type": "code",
      "source": [
        "mean_x2 = np.mean(x2)\n",
        "print(mean_x2)\n"
      ],
      "metadata": {
        "colab": {
          "base_uri": "https://localhost:8080/"
        },
        "id": "SLnZnT9N4fE9",
        "outputId": "141ab28d-fef3-4cfa-9b95-13d75cce67b3"
      },
      "execution_count": 7,
      "outputs": [
        {
          "output_type": "stream",
          "name": "stdout",
          "text": [
            "5.017827002176975\n"
          ]
        }
      ]
    },
    {
      "cell_type": "code",
      "source": [
        "diff_means = mean_x1 - mean_x2\n",
        "print(diff_means)\n"
      ],
      "metadata": {
        "colab": {
          "base_uri": "https://localhost:8080/"
        },
        "id": "0HNBWySg4hor",
        "outputId": "f7bec144-0680-482b-9438-4ea166a79c6b"
      },
      "execution_count": 8,
      "outputs": [
        {
          "output_type": "stream",
          "name": "stdout",
          "text": [
            "-4.999999999999999\n"
          ]
        }
      ]
    },
    {
      "cell_type": "code",
      "source": [
        "var_x1 = np.var(x1)\n",
        "var_x2 = np.var(x2)\n",
        "var_x = np.var(x)\n",
        "\n",
        "print(\"Variance of x1:\", var_x1)\n",
        "print(\"Variance of x2:\", var_x2)\n",
        "print(\"Variance of x:\", var_x)\n"
      ],
      "metadata": {
        "colab": {
          "base_uri": "https://localhost:8080/"
        },
        "id": "Y-WEuoLs4mgD",
        "outputId": "06b0b568-d385-40a2-8b78-4c1b77df17fd"
      },
      "execution_count": 9,
      "outputs": [
        {
          "output_type": "stream",
          "name": "stdout",
          "text": [
            "Variance of x1: 0.9671305582580639\n",
            "Variance of x2: 0.9671305582580639\n",
            "Variance of x: 0.9344635647893953\n"
          ]
        }
      ]
    }
  ]
}